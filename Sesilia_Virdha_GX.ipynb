{
 "cells": [
  {
   "cell_type": "markdown",
   "id": "ef9c1071",
   "metadata": {},
   "source": [
    "# Import Libraries"
   ]
  },
  {
   "cell_type": "code",
   "execution_count": 2,
   "id": "de0b947e",
   "metadata": {},
   "outputs": [],
   "source": [
    "import pandas as pd\n",
    "import great_expectations as ge\n",
    "from great_expectations.data_context import FileDataContext"
   ]
  },
  {
   "cell_type": "code",
   "execution_count": 4,
   "id": "f10ea264",
   "metadata": {},
   "outputs": [],
   "source": [
    "# Create data context\n",
    "context = FileDataContext.create(project_root_dir='./')"
   ]
  },
  {
   "cell_type": "code",
   "execution_count": 5,
   "id": "b95e8e5f",
   "metadata": {},
   "outputs": [],
   "source": [
    "# Create data source\n",
    "datasource = context.sources.add_pandas('main-datasource')\n",
    "\n",
    "# Create data asset\n",
    "path = './data/P2M3_Sesilia_Virdha_data_clean.csv'\n",
    "asset = datasource.add_csv_asset('mobile-device-usage', filepath_or_buffer=path)\n",
    "\n",
    "# Build batch request\n",
    "batch_request = asset.build_batch_request()"
   ]
  },
  {
   "cell_type": "code",
   "execution_count": 6,
   "id": "d0f47179",
   "metadata": {},
   "outputs": [
    {
     "data": {
      "application/vnd.jupyter.widget-view+json": {
       "model_id": "4c06fff54d9841139450088f13dd9ee0",
       "version_major": 2,
       "version_minor": 0
      },
      "text/plain": [
       "Calculating Metrics:   0%|          | 0/1 [00:00<?, ?it/s]"
      ]
     },
     "metadata": {},
     "output_type": "display_data"
    },
    {
     "data": {
      "text/html": [
       "<div>\n",
       "<style scoped>\n",
       "    .dataframe tbody tr th:only-of-type {\n",
       "        vertical-align: middle;\n",
       "    }\n",
       "\n",
       "    .dataframe tbody tr th {\n",
       "        vertical-align: top;\n",
       "    }\n",
       "\n",
       "    .dataframe thead th {\n",
       "        text-align: right;\n",
       "    }\n",
       "</style>\n",
       "<table border=\"1\" class=\"dataframe\">\n",
       "  <thead>\n",
       "    <tr style=\"text-align: right;\">\n",
       "      <th></th>\n",
       "      <th>customer_id</th>\n",
       "      <th>age</th>\n",
       "      <th>gender</th>\n",
       "      <th>item_purchased</th>\n",
       "      <th>category</th>\n",
       "      <th>purchase_amount_usd</th>\n",
       "      <th>location</th>\n",
       "      <th>size</th>\n",
       "      <th>color</th>\n",
       "      <th>season</th>\n",
       "      <th>review_rating</th>\n",
       "      <th>subscription_status</th>\n",
       "      <th>shipping_type</th>\n",
       "      <th>discount_applied</th>\n",
       "      <th>promo_code_used</th>\n",
       "      <th>previous_purchases</th>\n",
       "      <th>payment_method</th>\n",
       "      <th>frequency_of_purchases</th>\n",
       "    </tr>\n",
       "  </thead>\n",
       "  <tbody>\n",
       "    <tr>\n",
       "      <th>0</th>\n",
       "      <td>1</td>\n",
       "      <td>55</td>\n",
       "      <td>Male</td>\n",
       "      <td>Blouse</td>\n",
       "      <td>Clothing</td>\n",
       "      <td>53</td>\n",
       "      <td>Kentucky</td>\n",
       "      <td>L</td>\n",
       "      <td>Gray</td>\n",
       "      <td>Winter</td>\n",
       "      <td>3.1</td>\n",
       "      <td>Yes</td>\n",
       "      <td>Express</td>\n",
       "      <td>Yes</td>\n",
       "      <td>Yes</td>\n",
       "      <td>14</td>\n",
       "      <td>Venmo</td>\n",
       "      <td>Fortnightly</td>\n",
       "    </tr>\n",
       "    <tr>\n",
       "      <th>1</th>\n",
       "      <td>2</td>\n",
       "      <td>19</td>\n",
       "      <td>Male</td>\n",
       "      <td>Sweater</td>\n",
       "      <td>Clothing</td>\n",
       "      <td>64</td>\n",
       "      <td>Maine</td>\n",
       "      <td>L</td>\n",
       "      <td>Maroon</td>\n",
       "      <td>Winter</td>\n",
       "      <td>3.1</td>\n",
       "      <td>Yes</td>\n",
       "      <td>Express</td>\n",
       "      <td>Yes</td>\n",
       "      <td>Yes</td>\n",
       "      <td>2</td>\n",
       "      <td>Cash</td>\n",
       "      <td>Fortnightly</td>\n",
       "    </tr>\n",
       "    <tr>\n",
       "      <th>2</th>\n",
       "      <td>3</td>\n",
       "      <td>50</td>\n",
       "      <td>Male</td>\n",
       "      <td>Jeans</td>\n",
       "      <td>Clothing</td>\n",
       "      <td>73</td>\n",
       "      <td>Massachusetts</td>\n",
       "      <td>S</td>\n",
       "      <td>Maroon</td>\n",
       "      <td>Spring</td>\n",
       "      <td>3.1</td>\n",
       "      <td>Yes</td>\n",
       "      <td>Free Shipping</td>\n",
       "      <td>Yes</td>\n",
       "      <td>Yes</td>\n",
       "      <td>23</td>\n",
       "      <td>Credit Card</td>\n",
       "      <td>Weekly</td>\n",
       "    </tr>\n",
       "    <tr>\n",
       "      <th>3</th>\n",
       "      <td>4</td>\n",
       "      <td>21</td>\n",
       "      <td>Male</td>\n",
       "      <td>Sandals</td>\n",
       "      <td>Footwear</td>\n",
       "      <td>90</td>\n",
       "      <td>Rhode Island</td>\n",
       "      <td>M</td>\n",
       "      <td>Maroon</td>\n",
       "      <td>Spring</td>\n",
       "      <td>3.5</td>\n",
       "      <td>Yes</td>\n",
       "      <td>Next Day Air</td>\n",
       "      <td>Yes</td>\n",
       "      <td>Yes</td>\n",
       "      <td>49</td>\n",
       "      <td>PayPal</td>\n",
       "      <td>Weekly</td>\n",
       "    </tr>\n",
       "    <tr>\n",
       "      <th>4</th>\n",
       "      <td>5</td>\n",
       "      <td>45</td>\n",
       "      <td>Male</td>\n",
       "      <td>Blouse</td>\n",
       "      <td>Clothing</td>\n",
       "      <td>49</td>\n",
       "      <td>Oregon</td>\n",
       "      <td>M</td>\n",
       "      <td>Turquoise</td>\n",
       "      <td>Spring</td>\n",
       "      <td>2.7</td>\n",
       "      <td>Yes</td>\n",
       "      <td>Free Shipping</td>\n",
       "      <td>Yes</td>\n",
       "      <td>Yes</td>\n",
       "      <td>31</td>\n",
       "      <td>PayPal</td>\n",
       "      <td>Annually</td>\n",
       "    </tr>\n",
       "  </tbody>\n",
       "</table>\n",
       "</div>"
      ],
      "text/plain": [
       "   customer_id  age gender item_purchased  category  purchase_amount_usd  \\\n",
       "0            1   55   Male         Blouse  Clothing                   53   \n",
       "1            2   19   Male        Sweater  Clothing                   64   \n",
       "2            3   50   Male          Jeans  Clothing                   73   \n",
       "3            4   21   Male        Sandals  Footwear                   90   \n",
       "4            5   45   Male         Blouse  Clothing                   49   \n",
       "\n",
       "        location size      color  season  review_rating subscription_status  \\\n",
       "0       Kentucky    L       Gray  Winter            3.1                 Yes   \n",
       "1          Maine    L     Maroon  Winter            3.1                 Yes   \n",
       "2  Massachusetts    S     Maroon  Spring            3.1                 Yes   \n",
       "3   Rhode Island    M     Maroon  Spring            3.5                 Yes   \n",
       "4         Oregon    M  Turquoise  Spring            2.7                 Yes   \n",
       "\n",
       "   shipping_type discount_applied promo_code_used  previous_purchases  \\\n",
       "0        Express              Yes             Yes                  14   \n",
       "1        Express              Yes             Yes                   2   \n",
       "2  Free Shipping              Yes             Yes                  23   \n",
       "3   Next Day Air              Yes             Yes                  49   \n",
       "4  Free Shipping              Yes             Yes                  31   \n",
       "\n",
       "  payment_method frequency_of_purchases  \n",
       "0          Venmo            Fortnightly  \n",
       "1           Cash            Fortnightly  \n",
       "2    Credit Card                 Weekly  \n",
       "3         PayPal                 Weekly  \n",
       "4         PayPal               Annually  "
      ]
     },
     "execution_count": 6,
     "metadata": {},
     "output_type": "execute_result"
    }
   ],
   "source": [
    "# Create an expectation suite\n",
    "context.add_or_update_expectation_suite('gx_val_suite')\n",
    "\n",
    "# Create a validator using above expectation suite\n",
    "validator = context.get_validator(\n",
    "    batch_request = batch_request,\n",
    "    expectation_suite_name = 'gx_val_suite'\n",
    ")\n",
    "\n",
    "validator.head()"
   ]
  },
  {
   "cell_type": "markdown",
   "id": "f26a74e4",
   "metadata": {},
   "source": [
    "# Expectations\n",
    "\n",
    "## Expectation 1"
   ]
  },
  {
   "cell_type": "code",
   "execution_count": 7,
   "id": "02a0a8a1",
   "metadata": {},
   "outputs": [
    {
     "data": {
      "application/vnd.jupyter.widget-view+json": {
       "model_id": "762819d3c64941f793dd2bdc85f0fb6a",
       "version_major": 2,
       "version_minor": 0
      },
      "text/plain": [
       "Calculating Metrics:   0%|          | 0/8 [00:00<?, ?it/s]"
      ]
     },
     "metadata": {},
     "output_type": "display_data"
    },
    {
     "data": {
      "text/plain": [
       "{\n",
       "  \"success\": true,\n",
       "  \"result\": {\n",
       "    \"element_count\": 3900,\n",
       "    \"unexpected_count\": 0,\n",
       "    \"unexpected_percent\": 0.0,\n",
       "    \"partial_unexpected_list\": [],\n",
       "    \"missing_count\": 0,\n",
       "    \"missing_percent\": 0.0,\n",
       "    \"unexpected_percent_total\": 0.0,\n",
       "    \"unexpected_percent_nonmissing\": 0.0\n",
       "  },\n",
       "  \"meta\": {},\n",
       "  \"exception_info\": {\n",
       "    \"raised_exception\": false,\n",
       "    \"exception_traceback\": null,\n",
       "    \"exception_message\": null\n",
       "  }\n",
       "}"
      ]
     },
     "execution_count": 7,
     "metadata": {},
     "output_type": "execute_result"
    }
   ],
   "source": [
    "validator.expect_column_values_to_be_unique(\"customer_id\")"
   ]
  },
  {
   "cell_type": "markdown",
   "id": "58127ef2",
   "metadata": {},
   "source": [
    "expectation dari Great Expectations yang digunakan untuk memastikan bahwa setiap nilai dalam kolom customer_id bersifat unik yang artinya tidak ada duplikasi. Maka dapat dilihat dari hasil expectation yang berhasil dengan total jumlah data yang dicek adalah 3900 entri. Tidak ada data yang tidak sesuai harapan atau melanggar aturan. Dan 0% data yang melanggar aturan."
   ]
  },
  {
   "cell_type": "markdown",
   "id": "bcc8741a",
   "metadata": {},
   "source": [
    "## Expectation 2"
   ]
  },
  {
   "cell_type": "code",
   "execution_count": 8,
   "id": "d6bc28bd",
   "metadata": {},
   "outputs": [
    {
     "data": {
      "application/vnd.jupyter.widget-view+json": {
       "model_id": "94c5494c8e7947a3a8d4eda4d435b374",
       "version_major": 2,
       "version_minor": 0
      },
      "text/plain": [
       "Calculating Metrics:   0%|          | 0/8 [00:00<?, ?it/s]"
      ]
     },
     "metadata": {},
     "output_type": "display_data"
    },
    {
     "data": {
      "text/plain": [
       "{\n",
       "  \"success\": true,\n",
       "  \"result\": {\n",
       "    \"element_count\": 3900,\n",
       "    \"unexpected_count\": 0,\n",
       "    \"unexpected_percent\": 0.0,\n",
       "    \"partial_unexpected_list\": [],\n",
       "    \"missing_count\": 0,\n",
       "    \"missing_percent\": 0.0,\n",
       "    \"unexpected_percent_total\": 0.0,\n",
       "    \"unexpected_percent_nonmissing\": 0.0\n",
       "  },\n",
       "  \"meta\": {},\n",
       "  \"exception_info\": {\n",
       "    \"raised_exception\": false,\n",
       "    \"exception_traceback\": null,\n",
       "    \"exception_message\": null\n",
       "  }\n",
       "}"
      ]
     },
     "execution_count": 8,
     "metadata": {},
     "output_type": "execute_result"
    }
   ],
   "source": [
    "validator.expect_column_values_to_be_between(\n",
    "    column=\"age\", min_value=18, max_value=70\n",
    ")"
   ]
  },
  {
   "cell_type": "markdown",
   "id": "537d198a",
   "metadata": {},
   "source": [
    "Fungsi ini digunakan untuk memastikan bahwa nilai dalam kolom age berada di antara 18 dan 70. Maka dapat dilihat dari hasil expectation yang berhasil dengan total jumlah data yang dicek adalah 3900 entri. Tidak ada data yang tidak sesuai harapan atau melanggar aturan. Dan 0% data yang melanggar aturan."
   ]
  },
  {
   "cell_type": "markdown",
   "id": "a9eb2684",
   "metadata": {},
   "source": [
    "## Expectation 3"
   ]
  },
  {
   "cell_type": "code",
   "execution_count": 10,
   "id": "d133ede6",
   "metadata": {},
   "outputs": [
    {
     "data": {
      "application/vnd.jupyter.widget-view+json": {
       "model_id": "817af70105124ea29654a4f1ee3cdbc6",
       "version_major": 2,
       "version_minor": 0
      },
      "text/plain": [
       "Calculating Metrics:   0%|          | 0/8 [00:00<?, ?it/s]"
      ]
     },
     "metadata": {},
     "output_type": "display_data"
    },
    {
     "data": {
      "text/plain": [
       "{\n",
       "  \"success\": true,\n",
       "  \"result\": {\n",
       "    \"element_count\": 3900,\n",
       "    \"unexpected_count\": 0,\n",
       "    \"unexpected_percent\": 0.0,\n",
       "    \"partial_unexpected_list\": [],\n",
       "    \"missing_count\": 0,\n",
       "    \"missing_percent\": 0.0,\n",
       "    \"unexpected_percent_total\": 0.0,\n",
       "    \"unexpected_percent_nonmissing\": 0.0\n",
       "  },\n",
       "  \"meta\": {},\n",
       "  \"exception_info\": {\n",
       "    \"raised_exception\": false,\n",
       "    \"exception_traceback\": null,\n",
       "    \"exception_message\": null\n",
       "  }\n",
       "}"
      ]
     },
     "execution_count": 10,
     "metadata": {},
     "output_type": "execute_result"
    }
   ],
   "source": [
    "validator.expect_column_values_to_be_in_set(\n",
    "    column=\"size\", value_set=[\"S\", \"M\", \"L\", \"XL\"]\n",
    ")"
   ]
  },
  {
   "cell_type": "markdown",
   "id": "7730982c",
   "metadata": {},
   "source": [
    "Untuk memvalidasi bahwa semua nilai dalam kolom size termasuk dalam daftar nilai yang diperbolehkan, yaitu \"S\", \"M\", \"L\", dan \"XL\".Maka dapat dilihat dari hasil expectation yang berhasil dengan total jumlah data yang dicek adalah 3900 entri. Tidak ada data yang tidak sesuai harapan atau melanggar aturan. Dan 0% data yang melanggar aturan."
   ]
  },
  {
   "cell_type": "markdown",
   "id": "3384e2d4",
   "metadata": {},
   "source": [
    "## Expectation 4"
   ]
  },
  {
   "cell_type": "code",
   "execution_count": 15,
   "id": "e95bd4ae",
   "metadata": {},
   "outputs": [
    {
     "data": {
      "application/vnd.jupyter.widget-view+json": {
       "model_id": "b98da53df9874dbb95e9f3f406810245",
       "version_major": 2,
       "version_minor": 0
      },
      "text/plain": [
       "Calculating Metrics:   0%|          | 0/1 [00:00<?, ?it/s]"
      ]
     },
     "metadata": {},
     "output_type": "display_data"
    },
    {
     "data": {
      "text/plain": [
       "{\n",
       "  \"success\": true,\n",
       "  \"result\": {\n",
       "    \"observed_value\": \"object_\"\n",
       "  },\n",
       "  \"meta\": {},\n",
       "  \"exception_info\": {\n",
       "    \"raised_exception\": false,\n",
       "    \"exception_traceback\": null,\n",
       "    \"exception_message\": null\n",
       "  }\n",
       "}"
      ]
     },
     "execution_count": 15,
     "metadata": {},
     "output_type": "execute_result"
    }
   ],
   "source": [
    "validator.Expect_Column_Values_To_Be_Of_Type(\n",
    "    column=\"season\",\n",
    "    type_=\"object\"\n",
    ")"
   ]
  },
  {
   "cell_type": "markdown",
   "id": "5fbd3f69",
   "metadata": {},
   "source": [
    "Untuk memastikan bahwa semua nilai di kolom season memiliki tipe data object. Maka didapatkan hasil validasi berhasil, Kolom season memang memiliki tipe data sesuai yang diharapkan, yaitu object."
   ]
  },
  {
   "cell_type": "markdown",
   "id": "00086cd9",
   "metadata": {},
   "source": [
    "## Expectation 5"
   ]
  },
  {
   "cell_type": "code",
   "execution_count": 12,
   "id": "1495b243",
   "metadata": {},
   "outputs": [
    {
     "data": {
      "application/vnd.jupyter.widget-view+json": {
       "model_id": "a20209545425416284a8141c28af1962",
       "version_major": 2,
       "version_minor": 0
      },
      "text/plain": [
       "Calculating Metrics:   0%|          | 0/4 [00:00<?, ?it/s]"
      ]
     },
     "metadata": {},
     "output_type": "display_data"
    },
    {
     "data": {
      "text/plain": [
       "{\n",
       "  \"success\": true,\n",
       "  \"result\": {\n",
       "    \"observed_value\": [\n",
       "      \"Male\"\n",
       "    ]\n",
       "  },\n",
       "  \"meta\": {},\n",
       "  \"exception_info\": {\n",
       "    \"raised_exception\": false,\n",
       "    \"exception_traceback\": null,\n",
       "    \"exception_message\": null\n",
       "  }\n",
       "}"
      ]
     },
     "execution_count": 12,
     "metadata": {},
     "output_type": "execute_result"
    }
   ],
   "source": [
    "validator.Expect_Column_Most_Common_Value_To_Be_In_Set(\n",
    "    column=\"gender\",\n",
    "    value_set=[\"Male\", \"Female\"],\n",
    "    ties_okay=True\n",
    ")"
   ]
  },
  {
   "cell_type": "markdown",
   "id": "6f3725fb",
   "metadata": {},
   "source": [
    "Untuk memastikan bahwa nilai yang paling sering muncul (modus) dalam kolom gender termasuk dalam set nilai yang diizinkan, yaitu \"Male\" atau \"Female\". Validasi berhasil, nilai yang paling sering muncul dalam kolom gender yaitu \"Male\" dan berada dalam daftar yang diizinkan, yaitu \"Male\" atau \"Female\""
   ]
  },
  {
   "cell_type": "markdown",
   "id": "3cfa5e49",
   "metadata": {},
   "source": [
    "## Expectation 6"
   ]
  },
  {
   "cell_type": "code",
   "execution_count": 17,
   "id": "c56de85b",
   "metadata": {},
   "outputs": [
    {
     "data": {
      "application/vnd.jupyter.widget-view+json": {
       "model_id": "3b2477c4fb8b4f92a018229e5fc3ad50",
       "version_major": 2,
       "version_minor": 0
      },
      "text/plain": [
       "Calculating Metrics:   0%|          | 0/4 [00:00<?, ?it/s]"
      ]
     },
     "metadata": {},
     "output_type": "display_data"
    },
    {
     "data": {
      "text/plain": [
       "{\n",
       "  \"success\": true,\n",
       "  \"result\": {\n",
       "    \"observed_value\": 70\n",
       "  },\n",
       "  \"meta\": {},\n",
       "  \"exception_info\": {\n",
       "    \"raised_exception\": false,\n",
       "    \"exception_traceback\": null,\n",
       "    \"exception_message\": null\n",
       "  }\n",
       "}"
      ]
     },
     "execution_count": 17,
     "metadata": {},
     "output_type": "execute_result"
    }
   ],
   "source": [
    "validator.Expect_Column_Max_To_Be_Between(\n",
    "    column=\"age\",\n",
    "    min_value=1,\n",
    "    max_value=100\n",
    ")"
   ]
  },
  {
   "cell_type": "markdown",
   "id": "a239a3ed",
   "metadata": {},
   "source": [
    "memvalidasi bahwa nilai maksimum (tertinggi) dalam kolom age berada di antara 1 dan 100 (inklusif secara default). Maka didapatkan hasil validasi berhasil, nilai maksimal dalam kolom age yaitu 70"
   ]
  },
  {
   "cell_type": "markdown",
   "id": "622ad514",
   "metadata": {},
   "source": [
    "## Expectation 7"
   ]
  },
  {
   "cell_type": "code",
   "execution_count": 19,
   "id": "565f7dd4",
   "metadata": {},
   "outputs": [
    {
     "data": {
      "application/vnd.jupyter.widget-view+json": {
       "model_id": "c837ef64c3b04e4fa08dc5f2681d8bcb",
       "version_major": 2,
       "version_minor": 0
      },
      "text/plain": [
       "Calculating Metrics:   0%|          | 0/4 [00:00<?, ?it/s]"
      ]
     },
     "metadata": {},
     "output_type": "display_data"
    },
    {
     "data": {
      "text/plain": [
       "{\n",
       "  \"success\": true,\n",
       "  \"result\": {\n",
       "    \"observed_value\": 59.76435897435898\n",
       "  },\n",
       "  \"meta\": {},\n",
       "  \"exception_info\": {\n",
       "    \"raised_exception\": false,\n",
       "    \"exception_traceback\": null,\n",
       "    \"exception_message\": null\n",
       "  }\n",
       "}"
      ]
     },
     "execution_count": 19,
     "metadata": {},
     "output_type": "execute_result"
    }
   ],
   "source": [
    "validator.Expect_Column_Mean_To_Be_Between(\n",
    "    column=\"purchase_amount_usd\",\n",
    "    min_value=1,\n",
    "    max_value=1000\n",
    ")"
   ]
  },
  {
   "cell_type": "markdown",
   "id": "8e3ef927",
   "metadata": {},
   "source": [
    "Untuk memvalidasi bahwa nilai rata-rata (mean) dari kolom purchase_amount_usd berada di antara 1 dan 1000. Rata-rata pembelian dalam USD di dataset kamu adalah sekitar 59.76, yang sudah sesuai dengan batasan minimum 1 dan maksimum 1000 yang sudah tetapkan."
   ]
  }
 ],
 "metadata": {
  "kernelspec": {
   "display_name": "m3",
   "language": "python",
   "name": "python3"
  },
  "language_info": {
   "codemirror_mode": {
    "name": "ipython",
    "version": 3
   },
   "file_extension": ".py",
   "mimetype": "text/x-python",
   "name": "python",
   "nbconvert_exporter": "python",
   "pygments_lexer": "ipython3",
   "version": "3.10.18"
  }
 },
 "nbformat": 4,
 "nbformat_minor": 5
}
